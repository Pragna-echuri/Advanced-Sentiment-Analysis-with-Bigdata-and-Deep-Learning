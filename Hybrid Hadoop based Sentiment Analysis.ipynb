{
 "cells": [
  {
   "cell_type": "code",
   "execution_count": 2,
   "id": "2d6f38c6-aa67-4d65-8c4e-4d3b56aebc44",
   "metadata": {},
   "outputs": [],
   "source": [
    "from pyspark.sql import SparkSession\n",
    "from pyspark.sql.functions import col\n",
    "from pyspark.sql.types import StringType, IntegerType\n",
    "import pandas as pd\n",
    "import numpy as np\n",
    "import tensorflow as tf\n",
    "from tensorflow.keras.preprocessing.text import Tokenizer\n",
    "from tensorflow.keras.preprocessing.sequence import pad_sequences\n",
    "from tensorflow.keras.models import Sequential\n",
    "from tensorflow.keras.layers import Embedding, Bidirectional, LSTM, Dense, Dropout\n",
    "from sklearn.model_selection import train_test_split\n"
   ]
  },
  {
   "cell_type": "code",
   "execution_count": 3,
   "id": "1f10fc71-3f56-4448-b72b-2f3ec7d3a39a",
   "metadata": {},
   "outputs": [
    {
     "name": "stderr",
     "output_type": "stream",
     "text": [
      "25/04/02 22:57:01 WARN SparkSession: Using an existing Spark session; only runtime SQL configurations will take effect.\n"
     ]
    }
   ],
   "source": [
    "spark = SparkSession.builder \\\n",
    "    .appName(\"BiLSTM Sentiment Analysis\") \\\n",
    "    .getOrCreate()\n"
   ]
  },
  {
   "cell_type": "code",
   "execution_count": 4,
   "id": "d983e1da-b82f-4f91-aaf9-c2923f2e3856",
   "metadata": {},
   "outputs": [
    {
     "name": "stderr",
     "output_type": "stream",
     "text": [
      "                                                                                "
     ]
    },
    {
     "name": "stdout",
     "output_type": "stream",
     "text": [
      "+--------------------+----------+--------------------+--------------------+----------+--------------+-------------+---------------+--------------------+--------------------+--------------------+--------------------+--------+----+-----+-----+---------+\n",
      "|                  id|created_at|              source|       original_text|      lang|favorite_count|retweet_count|original_author|            hashtags|       user_mentions|               place|         clean_tweet|compound| neg|  neu|  pos|sentiment|\n",
      "+--------------------+----------+--------------------+--------------------+----------+--------------+-------------+---------------+--------------------+--------------------+--------------------+--------------------+--------+----+-----+-----+---------+\n",
      "|            1.25e+18|2020-04-19|\"<a href=\"\"http:/...|RT @GlblCtzn: .@p...|        en|           0.0|         31.0|        RJIshak|                null|GlblCtzn, priyank...|Jakarta Capital R...|call leader help ...|  0.8176| 0.0|0.452|0.548|      pos|\n",
      "|            1.25e+18|2020-04-19|\"<a href=\"\"http:/...|RT @OGSG_Official...|        en|           0.0|         61.0| makinwaoluwole|                null|       OGSG_Official|             Nigeria|ogun state suppor...|  0.6486| 0.0|0.602|0.398|      pos|\n",
      "|            1.25e+18|2020-04-19|\"<a href=\"\"http:/...|RT @AdvoBarryRoux...|        en|           0.0|          1.0|       TembeAmu|                null|       AdvoBarryRoux|                null|polic offici base...|  0.2732| 0.0|0.851|0.149|      pos|\n",
      "|            1.25e+18|2020-04-19|\"<a href=\"\"http:/...|RT @MobilePunch: ...|      null|          null|         null|           null|                null|                null|                null|                null|    null|null| null| null|     null|\n",
      "|https://t.co/eQRE...|        en|                 0.0|                 0.0|ilyasrabiu|          null|  MobilePunch| Lagos, Nigeria|covid19 oyo disch...|                 0.0|                 0.0|                 1.0|     0.0| neu| null| null|     null|\n",
      "+--------------------+----------+--------------------+--------------------+----------+--------------+-------------+---------------+--------------------+--------------------+--------------------+--------------------+--------+----+-----+-----+---------+\n",
      "only showing top 5 rows\n",
      "\n"
     ]
    }
   ],
   "source": [
    "df = spark.read.csv(\"hdfs://localhost:9000/covid/twitter_dataset.csv\", header=True, inferSchema=True)\n",
    "df.show(5)\n"
   ]
  },
  {
   "cell_type": "code",
   "execution_count": 5,
   "id": "8bb849c2-68bd-473d-9e8e-f58e1caf0b3f",
   "metadata": {},
   "outputs": [],
   "source": [
    "df = df.select(\n",
    "    col(\"clean_tweet\").cast(StringType()), \n",
    "    col(\"sentiment\").cast(IntegerType())\n",
    ")\n",
    "\n",
    "# Drop any rows with missing values\n",
    "df = df.na.drop()\n"
   ]
  },
  {
   "cell_type": "code",
   "execution_count": 6,
   "id": "17133e44-a060-49de-972e-c552f298067a",
   "metadata": {},
   "outputs": [
    {
     "name": "stderr",
     "output_type": "stream",
     "text": [
      "[Stage 3:====>                                                    (1 + 11) / 12]"
     ]
    },
    {
     "name": "stdout",
     "output_type": "stream",
     "text": [
      "Index(['clean_tweet', 'sentiment'], dtype='object')\n"
     ]
    },
    {
     "name": "stderr",
     "output_type": "stream",
     "text": [
      "                                                                                "
     ]
    }
   ],
   "source": [
    "pandas_df = df.toPandas()\n",
    "print(pandas_df.columns)\n"
   ]
  },
  {
   "cell_type": "code",
   "execution_count": 7,
   "id": "9df5736f-5cbc-4297-ba30-88e4eb722587",
   "metadata": {},
   "outputs": [],
   "source": [
    "MAX_WORDS = 10000  # Vocabulary size\n",
    "MAX_LEN = 100      # Max sequence length\n",
    "\n",
    "tokenizer = Tokenizer(num_words=MAX_WORDS, oov_token=\"<OOV>\")\n",
    "tokenizer.fit_on_texts(pandas_df['clean_tweet'])\n",
    "\n",
    "# Convert tweets to sequences\n",
    "sequences = tokenizer.texts_to_sequences(pandas_df['clean_tweet'])\n",
    "padded_sequences = pad_sequences(sequences, maxlen=MAX_LEN, padding='post')\n"
   ]
  },
  {
   "cell_type": "code",
   "execution_count": 8,
   "id": "ae00d9ac-c4b3-4e43-a070-ecc1675102fa",
   "metadata": {},
   "outputs": [],
   "source": [
    "X_train, X_test, y_train, y_test = train_test_split(\n",
    "    padded_sequences, \n",
    "    pandas_df['sentiment'], \n",
    "    test_size=0.2, \n",
    "    random_state=42\n",
    ")\n"
   ]
  },
  {
   "cell_type": "code",
   "execution_count": 10,
   "id": "fcd3357e-163b-4040-93de-1a509328b540",
   "metadata": {},
   "outputs": [
    {
     "name": "stdout",
     "output_type": "stream",
     "text": [
      "Model: \"sequential\"\n",
      "_________________________________________________________________\n",
      " Layer (type)                Output Shape              Param #   \n",
      "=================================================================\n",
      " embedding (Embedding)       (None, 100, 128)          1280000   \n",
      "                                                                 \n",
      " bidirectional (Bidirection  (None, 128)               98816     \n",
      " al)                                                             \n",
      "                                                                 \n",
      " dropout (Dropout)           (None, 128)               0         \n",
      "                                                                 \n",
      " dense (Dense)               (None, 64)                8256      \n",
      "                                                                 \n",
      " dense_1 (Dense)             (None, 1)                 65        \n",
      "                                                                 \n",
      "=================================================================\n",
      "Total params: 1387137 (5.29 MB)\n",
      "Trainable params: 1387137 (5.29 MB)\n",
      "Non-trainable params: 0 (0.00 Byte)\n",
      "_________________________________________________________________\n"
     ]
    }
   ],
   "source": [
    "model = Sequential()\n",
    "model.add(Embedding(input_dim=MAX_WORDS, output_dim=128, input_length=MAX_LEN))\n",
    "model.add(Bidirectional(LSTM(64, return_sequences=False)))\n",
    "model.add(Dropout(0.5))\n",
    "X_train, X_test, y_train, y_test = train_test_split(\n",
    "    padded_sequences, \n",
    "    pandas_df['sentiment'], \n",
    "    test_size=0.2, \n",
    "    random_state=42\n",
    ")\n",
    "\n",
    "model.add(Dense(64, activation='relu'))\n",
    "model.add(Dense(1, activation='sigmoid'))\n",
    "\n",
    "model.compile(optimizer='adam', loss='binary_crossentropy', metrics=['accuracy'])\n",
    "model.summary()\n"
   ]
  },
  {
   "cell_type": "code",
   "execution_count": 11,
   "id": "72bc03f2-7b91-46d8-a632-eddd37336a36",
   "metadata": {},
   "outputs": [
    {
     "name": "stdout",
     "output_type": "stream",
     "text": [
      "Epoch 1/5\n",
      "19/19 [==============================] - 3s 59ms/step - loss: 0.4319 - accuracy: 0.8973 - val_loss: 0.3106 - val_accuracy: 0.9085\n",
      "Epoch 2/5\n",
      "19/19 [==============================] - 1s 39ms/step - loss: 0.3006 - accuracy: 0.9160 - val_loss: 0.3091 - val_accuracy: 0.9085\n",
      "Epoch 3/5\n",
      "19/19 [==============================] - 1s 40ms/step - loss: 0.2923 - accuracy: 0.9160 - val_loss: 0.3056 - val_accuracy: 0.9085\n",
      "Epoch 4/5\n",
      "19/19 [==============================] - 1s 39ms/step - loss: 0.2836 - accuracy: 0.9160 - val_loss: 0.3022 - val_accuracy: 0.9085\n",
      "Epoch 5/5\n",
      "19/19 [==============================] - 1s 40ms/step - loss: 0.2743 - accuracy: 0.9160 - val_loss: 0.2948 - val_accuracy: 0.9085\n"
     ]
    }
   ],
   "source": [
    "history = model.fit(\n",
    "    X_train, y_train, \n",
    "    validation_data=(X_test, y_test), \n",
    "    epochs=5, \n",
    "    batch_size=64\n",
    ")\n"
   ]
  },
  {
   "cell_type": "code",
   "execution_count": 12,
   "id": "d68b4e8b-034d-43a6-b9cd-3f242ad90775",
   "metadata": {},
   "outputs": [
    {
     "name": "stdout",
     "output_type": "stream",
     "text": [
      "10/10 [==============================] - 0s 11ms/step - loss: 0.2948 - accuracy: 0.9085\n",
      "Test Accuracy: 0.9084745645523071\n",
      "Test Loss: 0.2948293685913086\n"
     ]
    }
   ],
   "source": [
    "loss, accuracy = model.evaluate(X_test, y_test)\n",
    "print(f\"Test Accuracy: {accuracy}\")\n",
    "print(f\"Test Loss: {loss}\")\n"
   ]
  },
  {
   "cell_type": "code",
   "execution_count": null,
   "id": "365f31d0-07ef-42b2-a091-2245ac512ba1",
   "metadata": {},
   "outputs": [],
   "source": [
    "model.save(\"/home/satvika/bilstm_sentiment_model.h5\")  "
   ]
  },
  {
   "cell_type": "code",
   "execution_count": null,
   "id": "5213e027-5449-4c3d-949a-3e3ed50362aa",
   "metadata": {},
   "outputs": [],
   "source": [
    "#using fuzzy "
   ]
  },
  {
   "cell_type": "code",
   "execution_count": 20,
   "id": "653dd73b-9062-4a16-b199-55651a3e7ef8",
   "metadata": {},
   "outputs": [
    {
     "name": "stderr",
     "output_type": "stream",
     "text": [
      "25/04/03 00:33:00 WARN SparkSession: Using an existing Spark session; only runtime SQL configurations will take effect.\n"
     ]
    },
    {
     "name": "stdout",
     "output_type": "stream",
     "text": [
      "Model: \"sequential_1\"\n",
      "_________________________________________________________________\n",
      " Layer (type)                Output Shape              Param #   \n",
      "=================================================================\n",
      " embedding_1 (Embedding)     (None, 100, 128)          1280000   \n",
      "                                                                 \n",
      " bidirectional_1 (Bidirecti  (None, 128)               98816     \n",
      " onal)                                                           \n",
      "                                                                 \n",
      " dropout_1 (Dropout)         (None, 128)               0         \n",
      "                                                                 \n",
      " dense_2 (Dense)             (None, 64)                8256      \n",
      "                                                                 \n",
      " dense_3 (Dense)             (None, 1)                 65        \n",
      "                                                                 \n",
      "=================================================================\n",
      "Total params: 1387137 (5.29 MB)\n",
      "Trainable params: 1387137 (5.29 MB)\n",
      "Non-trainable params: 0 (0.00 Byte)\n",
      "_________________________________________________________________\n",
      "Epoch 1/5\n",
      "37/37 [==============================] - 3s 42ms/step - loss: 0.3688 - accuracy: 0.9100 - val_loss: 0.3073 - val_accuracy: 0.9085\n",
      "Epoch 2/5\n",
      "37/37 [==============================] - 1s 31ms/step - loss: 0.2986 - accuracy: 0.9160 - val_loss: 0.3054 - val_accuracy: 0.9085\n",
      "Epoch 3/5\n",
      "37/37 [==============================] - 1s 30ms/step - loss: 0.2848 - accuracy: 0.9160 - val_loss: 0.2976 - val_accuracy: 0.9085\n",
      "Epoch 4/5\n",
      "37/37 [==============================] - 1s 30ms/step - loss: 0.2549 - accuracy: 0.9160 - val_loss: 0.2647 - val_accuracy: 0.9085\n",
      "Epoch 5/5\n",
      "37/37 [==============================] - 1s 30ms/step - loss: 0.1429 - accuracy: 0.9270 - val_loss: 0.2352 - val_accuracy: 0.9119\n",
      "37/37 [==============================] - 1s 12ms/step\n",
      "10/10 [==============================] - 0s 11ms/step\n"
     ]
    },
    {
     "name": "stderr",
     "output_type": "stream",
     "text": [
      "                                                                                "
     ]
    },
    {
     "name": "stdout",
     "output_type": "stream",
     "text": [
      "+---------+----------+\n",
      "|sentiment|prediction|\n",
      "+---------+----------+\n",
      "|      0.0|       0.0|\n",
      "|      0.0|       0.0|\n",
      "|      0.0|       0.0|\n",
      "|      0.0|       0.0|\n",
      "|      0.0|       1.0|\n",
      "|      0.0|       0.0|\n",
      "|      0.0|       0.0|\n",
      "|      0.0|       1.0|\n",
      "|      1.0|       1.0|\n",
      "|      0.0|       0.0|\n",
      "+---------+----------+\n",
      "only showing top 10 rows\n",
      "\n",
      "Bi-LSTM + Fuzzy C4.5 Accuracy: 82.71%\n"
     ]
    }
   ],
   "source": [
    "import numpy as np\n",
    "import tensorflow as tf\n",
    "from tensorflow.keras.models import Sequential\n",
    "from tensorflow.keras.layers import Embedding, LSTM, Bidirectional, Dropout, Dense\n",
    "from sklearn.model_selection import train_test_split\n",
    "from pyspark.ml.classification import DecisionTreeClassifier\n",
    "from pyspark.ml.evaluation import MulticlassClassificationEvaluator\n",
    "from pyspark.ml.linalg import Vectors\n",
    "from pyspark.sql import SparkSession\n",
    "\n",
    "# ✅ Initialize Spark\n",
    "spark = SparkSession.builder.appName(\"FuzzyC4.5_LSTM\").getOrCreate()\n",
    "\n",
    "# ✅ Define Bi-LSTM Model\n",
    "MAX_WORDS = 10000\n",
    "MAX_LEN = 100\n",
    "\n",
    "model = Sequential()\n",
    "model.add(Embedding(input_dim=MAX_WORDS, output_dim=128, input_length=MAX_LEN))\n",
    "model.add(Bidirectional(LSTM(64, return_sequences=False)))\n",
    "model.add(Dropout(0.5))\n",
    "model.add(Dense(64, activation='relu'))\n",
    "model.add(Dense(1, activation='sigmoid'))\n",
    "\n",
    "model.compile(optimizer='adam', loss='binary_crossentropy', metrics=['accuracy'])\n",
    "model.summary()\n",
    "\n",
    "# ✅ Train Bi-LSTM\n",
    "X_train, X_test, y_train, y_test = train_test_split(\n",
    "    padded_sequences, pandas_df['sentiment'], test_size=0.2, random_state=42\n",
    ")\n",
    "\n",
    "model.fit(X_train, y_train, epochs=5, batch_size=32, validation_data=(X_test, y_test))\n",
    "\n",
    "# ✅ Extract LSTM Features\n",
    "feature_extractor = tf.keras.Model(inputs=model.input, outputs=model.layers[-2].output)\n",
    "train_features = feature_extractor.predict(X_train)\n",
    "test_features = feature_extractor.predict(X_test)\n",
    "\n",
    "# ✅ Convert to Spark DataFrame\n",
    "train_df = spark.createDataFrame([\n",
    "    (float(label), Vectors.dense(features.tolist())) for label, features in zip(y_train, train_features)\n",
    "], [\"sentiment\", \"features\"])\n",
    "\n",
    "test_df = spark.createDataFrame([\n",
    "    (float(label), Vectors.dense(features.tolist())) for label, features in zip(y_test, test_features)\n",
    "], [\"sentiment\", \"features\"])\n",
    "\n",
    "# ✅ Train Decision Tree Classifier (Fuzzy C4.5)\n",
    "dt = DecisionTreeClassifier(featuresCol=\"features\", labelCol=\"sentiment\", impurity=\"entropy\")\n",
    "dt_model = dt.fit(train_df)\n",
    "\n",
    "# ✅ Make Predictions\n",
    "predictions = dt_model.transform(test_df)\n",
    "predictions.select(\"sentiment\", \"prediction\").show(10)\n",
    "\n",
    "# ✅ Evaluate Fuzzy C4.5 Performance\n",
    "evaluator = MulticlassClassificationEvaluator(labelCol=\"sentiment\", predictionCol=\"prediction\", metricName=\"accuracy\")\n",
    "accuracy = evaluator.evaluate(predictions)\n",
    "print(f\"Bi-LSTM + Fuzzy C4.5 Accuracy: {accuracy * 100:.2f}%\")\n"
   ]
  },
  {
   "cell_type": "code",
   "execution_count": 26,
   "id": "a7c18977-130a-4127-a10c-540e7cd61501",
   "metadata": {},
   "outputs": [
    {
     "name": "stdout",
     "output_type": "stream",
     "text": [
      "Model: \"sequential_3\"\n",
      "_________________________________________________________________\n",
      " Layer (type)                Output Shape              Param #   \n",
      "=================================================================\n",
      " embedding_3 (Embedding)     (None, 100, 128)          3906816   \n",
      "                                                                 \n",
      " bidirectional_3 (Bidirecti  (None, 128)               98816     \n",
      " onal)                                                           \n",
      "                                                                 \n",
      " dropout_3 (Dropout)         (None, 128)               0         \n",
      "                                                                 \n",
      " dense_6 (Dense)             (None, 64)                8256      \n",
      "                                                                 \n",
      " dense_7 (Dense)             (None, 1)                 65        \n",
      "                                                                 \n",
      "=================================================================\n",
      "Total params: 4013953 (15.31 MB)\n",
      "Trainable params: 4013953 (15.31 MB)\n",
      "Non-trainable params: 0 (0.00 Byte)\n",
      "_________________________________________________________________\n",
      "Epoch 1/5\n",
      "37/37 [==============================] - 3s 50ms/step - loss: 0.3894 - accuracy: 0.9066 - val_loss: 0.2973 - val_accuracy: 0.9085\n",
      "Epoch 2/5\n",
      "37/37 [==============================] - 1s 40ms/step - loss: 0.2821 - accuracy: 0.9160 - val_loss: 0.2876 - val_accuracy: 0.9085\n",
      "Epoch 3/5\n",
      "37/37 [==============================] - 2s 42ms/step - loss: 0.2363 - accuracy: 0.9160 - val_loss: 0.2624 - val_accuracy: 0.9085\n",
      "Epoch 4/5\n",
      "37/37 [==============================] - 2s 41ms/step - loss: 0.1127 - accuracy: 0.9508 - val_loss: 0.3269 - val_accuracy: 0.9051\n",
      "Epoch 5/5\n",
      "37/37 [==============================] - 2s 41ms/step - loss: 0.0460 - accuracy: 0.9856 - val_loss: 0.4379 - val_accuracy: 0.8881\n",
      "10/10 [==============================] - 0s 12ms/step\n"
     ]
    }
   ],
   "source": [
    "import numpy as np\n",
    "import tensorflow as tf\n",
    "from tensorflow.keras.models import Sequential\n",
    "from tensorflow.keras.layers import Embedding, LSTM, Bidirectional, Dropout, Dense\n",
    "from transformers import BertTokenizer\n",
    "from sklearn.model_selection import train_test_split\n",
    "from sklearn.metrics import classification_report, confusion_matrix\n",
    "\n",
    "# ✅ Load BERT Tokenizer\n",
    "bert_tokenizer = BertTokenizer.from_pretrained(\"bert-base-uncased\")\n",
    "\n",
    "# ✅ Tokenize Text Data\n",
    "def tokenize_texts(texts, max_len=100):\n",
    "    encoded = bert_tokenizer(\n",
    "        texts.tolist(),  \n",
    "        padding=\"max_length\",\n",
    "        truncation=True,\n",
    "        max_length=max_len,\n",
    "        return_tensors=\"np\"\n",
    "    )\n",
    "    return encoded[\"input_ids\"]\n",
    "\n",
    "# ✅ Tokenize Sentences\n",
    "MAX_LEN = 100\n",
    "X = tokenize_texts(pandas_df[\"clean_tweet\"], max_len=MAX_LEN)\n",
    "y = pandas_df[\"sentiment\"]\n",
    "\n",
    "# ✅ Split Data\n",
    "X_train, X_test, y_train, y_test = train_test_split(X, y, test_size=0.2, random_state=42)\n",
    "\n",
    "# ✅ Define Bi-LSTM Model\n",
    "model = Sequential([\n",
    "    Embedding(input_dim=bert_tokenizer.vocab_size, output_dim=128, input_length=MAX_LEN),\n",
    "    Bidirectional(LSTM(64, return_sequences=False)),\n",
    "    Dropout(0.5),\n",
    "    Dense(64, activation='relu'),\n",
    "    Dense(1, activation='sigmoid')\n",
    "])\n",
    "\n",
    "model.compile(optimizer='adam', loss='binary_crossentropy', metrics=['accuracy'])\n",
    "model.summary()\n",
    "\n",
    "# ✅ Train Bi-LSTM\n",
    "model.fit(X_train, y_train, epochs=5, batch_size=32, validation_data=(X_test, y_test))\n",
    "\n",
    "# ✅ Predictions\n",
    "y_pred_probs = model.predict(X_test)\n",
    "y_pred = (y_pred_probs > 0.5).astype(int)\n",
    "\n"
   ]
  },
  {
   "cell_type": "code",
   "execution_count": 27,
   "id": "b1ce4660-c4c5-4276-81a8-1f9456332410",
   "metadata": {},
   "outputs": [
    {
     "name": "stdout",
     "output_type": "stream",
     "text": [
      "Test Accuracy: 0.8881\n"
     ]
    },
    {
     "data": {
      "image/png": "[encoded data removed]",
      "text/plain": [
       "<Figure size 600x500 with 2 Axes>"
      ]
     },
     "metadata": {},
     "output_type": "display_data"
    }
   ],
   "source": [
    "import numpy as np\n",
    "import matplotlib.pyplot as plt\n",
    "import seaborn as sns\n",
    "from sklearn.metrics import classification_report, confusion_matrix, accuracy_score, precision_score\n",
    "\n",
    "# ✅ Compute Test Accuracy\n",
    "test_accuracy = accuracy_score(y_test, y_pred)\n",
    "print(f\"Test Accuracy: {test_accuracy:.4f}\")\n",
    "\n",
    "# ✅ Generate Confusion Matrix\n",
    "conf_matrix = confusion_matrix(y_test, y_pred)\n",
    "\n",
    "# ✅ Plot Confusion Matrix\n",
    "plt.figure(figsize=(6, 5))\n",
    "sns.heatmap(conf_matrix, annot=True, fmt=\"d\", cmap=\"Blues\", xticklabels=[\"Negative\", \"Positive\"], yticklabels=[\"Negative\", \"Positive\"])\n",
    "plt.xlabel(\"Predicted Label\")\n",
    "plt.ylabel(\"True Label\")\n",
    "plt.title(\"Confusion Matrix\")\n",
    "plt.show()\n"
   ]
  },
  {
   "cell_type": "code",
   "execution_count": 29,
   "id": "cfc42c77-0fa3-4b9c-ba6b-559ddf1cdfaf",
   "metadata": {},
   "outputs": [
    {
     "name": "stdout",
     "output_type": "stream",
     "text": [
      "Model: \"model_1\"\n",
      "_________________________________________________________________\n",
      " Layer (type)                Output Shape              Param #   \n",
      "=================================================================\n",
      " input_1 (InputLayer)        [(None, 100)]             0         \n",
      "                                                                 \n",
      " embedding_4 (Embedding)     (None, 100, 128)          3906816   \n",
      "                                                                 \n",
      " bidirectional_4 (Bidirecti  (None, 128)               98816     \n",
      " onal)                                                           \n",
      "                                                                 \n",
      " dropout_4 (Dropout)         (None, 128)               0         \n",
      "                                                                 \n",
      " dense_8 (Dense)             (None, 64)                8256      \n",
      "                                                                 \n",
      " dense_9 (Dense)             (None, 1)                 65        \n",
      "                                                                 \n",
      "=================================================================\n",
      "Total params: 4013953 (15.31 MB)\n",
      "Trainable params: 4013953 (15.31 MB)\n",
      "Non-trainable params: 0 (0.00 Byte)\n",
      "_________________________________________________________________\n",
      "47/47 [==============================] - 1s 15ms/step\n",
      "Fuzzy C4.5 Test Accuracy: 0.9267\n",
      "Fuzzy C4.5 Precision: 0.9091\n"
     ]
    },
    {
     "data": {
      "image/png": "[encoded data removed]",
      "text/plain": [
       "<Figure size 600x500 with 2 Axes>"
      ]
     },
     "metadata": {},
     "output_type": "display_data"
    }
   ],
   "source": [
    "import numpy as np\n",
    "import pandas as pd\n",
    "import seaborn as sns\n",
    "import matplotlib.pyplot as plt\n",
    "from sklearn.metrics import accuracy_score, precision_score, confusion_matrix\n",
    "from sklearn.tree import DecisionTreeClassifier\n",
    "from sklearn.preprocessing import LabelEncoder\n",
    "from keras.models import Model\n",
    "from keras.layers import Input, Embedding, Bidirectional, LSTM, Dense, Dropout\n",
    "from keras.preprocessing.sequence import pad_sequences\n",
    "from transformers import BertTokenizer\n",
    "import skfuzzy as fuzz\n",
    "from skfuzzy import control as ctrl\n",
    "\n",
    "# ============================\n",
    "# 🔹 Load & Preprocess Data\n",
    "# ============================\n",
    "tokenizer = BertTokenizer.from_pretrained(\"bert-base-uncased\")\n",
    "MAX_LEN = 100\n",
    "\n",
    "# ✅ Tokenize Text\n",
    "def tokenize_texts(texts, max_len=MAX_LEN):\n",
    "    tokens = tokenizer(texts.tolist(), padding='max_length', truncation=True, max_length=max_len, return_tensors=\"np\")\n",
    "    return tokens[\"input_ids\"]\n",
    "\n",
    "X = tokenize_texts(pandas_df[\"clean_tweet\"])\n",
    "y = pandas_df[\"sentiment\"]\n",
    "\n",
    "# ✅ Pad Sequences\n",
    "X = pad_sequences(X, maxlen=MAX_LEN)\n",
    "\n",
    "# ✅ Encode Labels\n",
    "label_encoder = LabelEncoder()\n",
    "y_encoded = label_encoder.fit_transform(y)\n",
    "\n",
    "# ============================\n",
    "# 🔹 Train BiLSTM Model\n",
    "# ============================\n",
    "input_layer = Input(shape=(MAX_LEN,))\n",
    "embedding = Embedding(input_dim=tokenizer.vocab_size, output_dim=128, input_length=MAX_LEN)(input_layer)\n",
    "bilstm = Bidirectional(LSTM(64, return_sequences=False))(embedding)\n",
    "dropout = Dropout(0.5)(bilstm)\n",
    "dense = Dense(64, activation='relu')(dropout)\n",
    "output_layer = Dense(1, activation='sigmoid')(dense)\n",
    "\n",
    "bilstm_model = Model(inputs=input_layer, outputs=output_layer)\n",
    "bilstm_model.compile(optimizer='adam', loss='binary_crossentropy', metrics=['accuracy'])\n",
    "bilstm_model.summary()\n",
    "\n",
    "# ✅ Extract Features from BiLSTM\n",
    "feature_extractor = Model(inputs=bilstm_model.input, outputs=bilstm)\n",
    "X_features = feature_extractor.predict(X)\n",
    "\n",
    "# ============================\n",
    "# 🔹 Train Fuzzy C4.5 Classifier\n",
    "# ============================\n",
    "# Convert extracted features into a Pandas DataFrame\n",
    "X_features_df = pd.DataFrame(X_features)\n",
    "\n",
    "# ✅ Initialize Decision Tree (C4.5-like)\n",
    "dtree = DecisionTreeClassifier(criterion='entropy', max_depth=5)  # Mimicking C4.5\n",
    "dtree.fit(X_features_df, y_encoded)\n",
    "\n",
    "# ✅ Predict using Fuzzy C4.5\n",
    "y_pred_fuzzy = dtree.predict(X_features_df)\n",
    "\n",
    "# ============================\n",
    "# 🔹 Fuzzy Decision Refinement\n",
    "# ============================\n",
    "sentiment = ctrl.Antecedent(np.arange(0, 1.1, 0.1), 'sentiment')\n",
    "output_class = ctrl.Consequent(np.arange(0, 1.1, 0.1), 'output_class')\n",
    "\n",
    "# ✅ Define fuzzy membership functions\n",
    "sentiment['negative'] = fuzz.trimf(sentiment.universe, [0, 0, 0.5])\n",
    "sentiment['positive'] = fuzz.trimf(sentiment.universe, [0.5, 1, 1])\n",
    "\n",
    "output_class['negative'] = fuzz.trimf(output_class.universe, [0, 0, 0.5])\n",
    "output_class['positive'] = fuzz.trimf(output_class.universe, [0.5, 1, 1])\n",
    "\n",
    "# ✅ Define fuzzy rules\n",
    "rule1 = ctrl.Rule(sentiment['negative'], output_class['negative'])\n",
    "rule2 = ctrl.Rule(sentiment['positive'], output_class['positive'])\n",
    "\n",
    "sentiment_control = ctrl.ControlSystem([rule1, rule2])\n",
    "sentiment_simulation = ctrl.ControlSystemSimulation(sentiment_control)\n",
    "\n",
    "# ✅ Apply fuzzy logic to predictions\n",
    "fuzzy_predictions = []\n",
    "for pred in y_pred_fuzzy:\n",
    "    sentiment_simulation.input['sentiment'] = pred\n",
    "    sentiment_simulation.compute()\n",
    "    fuzzy_predictions.append(1 if sentiment_simulation.output['output_class'] >= 0.5 else 0)\n",
    "\n",
    "# ============================\n",
    "# 🔹 Evaluation\n",
    "# ============================\n",
    "test_accuracy = accuracy_score(y_encoded, fuzzy_predictions)\n",
    "precision = precision_score(y_encoded, fuzzy_predictions, average='binary')\n",
    "\n",
    "print(f\"Fuzzy C4.5 Test Accuracy: {test_accuracy:.4f}\")\n",
    "print(f\"Fuzzy C4.5 Precision: {precision:.4f}\")\n",
    "\n",
    "# ✅ Confusion Matrix\n",
    "conf_matrix = confusion_matrix(y_encoded, fuzzy_predictions)\n",
    "plt.figure(figsize=(6, 5))\n",
    "sns.heatmap(conf_matrix, annot=True, fmt=\"d\", cmap=\"Blues\", xticklabels=[\"Negative\", \"Positive\"], yticklabels=[\"Negative\", \"Positive\"])\n",
    "plt.xlabel(\"Predicted Label (Fuzzy C4.5)\")\n",
    "plt.ylabel(\"True Label\")\n",
    "plt.title(\"Fuzzy C4.5 Confusion Matrix\")\n",
    "plt.show()\n"
   ]
  }
 ],
 "metadata": {
  "kernelspec": {
   "display_name": "Python 3 (ipykernel)",
   "language": "python",
   "name": "python3"
  },
  "language_info": {
   "codemirror_mode": {
    "name": "ipython",
    "version": 3
   },
   "file_extension": ".py",
   "mimetype": "text/x-python",
   "name": "python",
   "nbconvert_exporter": "python",
   "pygments_lexer": "ipython3",
   "version": "3.8.10"
  }
 },
 "nbformat": 4,
 "nbformat_minor": 5
}
